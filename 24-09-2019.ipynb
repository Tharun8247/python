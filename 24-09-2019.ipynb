{
 "cells": [
  {
   "cell_type": "markdown",
   "metadata": {},
   "source": [
    "# variables\n",
    "- variable is to store a value\n",
    "- naming rules\n",
    " - should start with alphabets,underscore(_),alphanumeric(should start with aplhabet)\n",
    "  - keywords and builitins cannot be used as variable names."
   ]
  },
  {
   "cell_type": "markdown",
   "metadata": {},
   "source": [
    "# code comments\n",
    " - # single line\n",
    " - '''text''' (or) '''text''' multiline"
   ]
  },
  {
   "cell_type": "markdown",
   "metadata": {},
   "source": [
    "# getting keyword list"
   ]
  },
  {
   "cell_type": "code",
   "execution_count": 2,
   "metadata": {},
   "outputs": [
    {
     "data": {
      "text/plain": [
       "['False',\n",
       " 'None',\n",
       " 'True',\n",
       " 'and',\n",
       " 'as',\n",
       " 'assert',\n",
       " 'async',\n",
       " 'await',\n",
       " 'break',\n",
       " 'class',\n",
       " 'continue',\n",
       " 'def',\n",
       " 'del',\n",
       " 'elif',\n",
       " 'else',\n",
       " 'except',\n",
       " 'finally',\n",
       " 'for',\n",
       " 'from',\n",
       " 'global',\n",
       " 'if',\n",
       " 'import',\n",
       " 'in',\n",
       " 'is',\n",
       " 'lambda',\n",
       " 'nonlocal',\n",
       " 'not',\n",
       " 'or',\n",
       " 'pass',\n",
       " 'raise',\n",
       " 'return',\n",
       " 'try',\n",
       " 'while',\n",
       " 'with',\n",
       " 'yield']"
      ]
     },
     "execution_count": 2,
     "metadata": {},
     "output_type": "execute_result"
    }
   ],
   "source": [
    "import keyword\n",
    "keyword.kwlist"
   ]
  },
  {
   "cell_type": "markdown",
   "metadata": {},
   "source": [
    "# operators\n",
    "```\n",
    "** - power\n",
    "// - floor value (only int value) \n",
    "```"
   ]
  },
  {
   "cell_type": "markdown",
   "metadata": {},
   "source": [
    "# membership operators(in,not in)"
   ]
  },
  {
   "cell_type": "code",
   "execution_count": 8,
   "metadata": {},
   "outputs": [
    {
     "name": "stdout",
     "output_type": "stream",
     "text": [
      "mahesh\n"
     ]
    }
   ],
   "source": [
    "a=[1,2,5,7]\n",
    "if 5 in a:\n",
    "    print('mahesh')"
   ]
  },
  {
   "cell_type": "code",
   "execution_count": 10,
   "metadata": {
    "scrolled": true
   },
   "outputs": [
    {
     "name": "stdout",
     "output_type": "stream",
     "text": [
      "tahrun\n"
     ]
    }
   ],
   "source": [
    "a=[1,2,3,4,5]\n",
    "if 5 in a:\n",
    "    print('tahrun')\n",
    "else:\n",
    "    print('mahesh')\n"
   ]
  },
  {
   "cell_type": "markdown",
   "metadata": {},
   "source": [
    "# identity operators(is,is not)"
   ]
  },
  {
   "cell_type": "code",
   "execution_count": 11,
   "metadata": {},
   "outputs": [
    {
     "name": "stdout",
     "output_type": "stream",
     "text": [
      "mahesh\n"
     ]
    }
   ],
   "source": [
    "a=10\n",
    "b=5\n",
    "if a is b:\n",
    "    print('tharun')\n",
    "else:\n",
    "    print('mahesh')"
   ]
  },
  {
   "cell_type": "markdown",
   "metadata": {},
   "source": [
    "# expressions\n",
    "\n",
    "- operator precendency(PEMDAS) "
   ]
  },
  {
   "cell_type": "code",
   "execution_count": 15,
   "metadata": {},
   "outputs": [
    {
     "name": "stdout",
     "output_type": "stream",
     "text": [
      "7.0\n"
     ]
    }
   ],
   "source": [
    "a,b,c,d=1,4,3,2\n",
    "print(a+b*c/d)"
   ]
  },
  {
   "cell_type": "markdown",
   "metadata": {},
   "source": [
    "# PYTHON literals\n",
    "- LITERALS is a data which is given to variables\n",
    "- types of literals\n",
    " - stinrg literals\n",
    "   - single line(' ',\" \")\n",
    "   - multline (''' ''' or \"\"\" \"\"\")\n",
    " - numeric literals\n",
    "   - int,long,float,complex\n",
    " - boolean and special literals\n",
    "   - True, False, None\n",
    " - literals collections\n",
    "   - List, tuple,dictionary"
   ]
  },
  {
   "cell_type": "code",
   "execution_count": 21,
   "metadata": {},
   "outputs": [
    {
     "name": "stdout",
     "output_type": "stream",
     "text": [
      "ece students\n"
     ]
    }
   ],
   "source": [
    "# single line \n",
    "a='ece'\n",
    "b=\"students\"\n",
    "print(a,b)"
   ]
  },
  {
   "cell_type": "code",
   "execution_count": 29,
   "metadata": {},
   "outputs": [],
   "source": [
    "# multiline literal\n",
    "a='''\n",
    "hai\n",
    "hello\n",
    "tharun\n",
    "'''"
   ]
  },
  {
   "cell_type": "code",
   "execution_count": 35,
   "metadata": {},
   "outputs": [
    {
     "name": "stdout",
     "output_type": "stream",
     "text": [
      "44\n"
     ]
    }
   ],
   "source": [
    "a=44\n",
    "print(a)"
   ]
  },
  {
   "cell_type": "code",
   "execution_count": 37,
   "metadata": {},
   "outputs": [
    {
     "data": {
      "text/plain": [
       "44"
      ]
     },
     "execution_count": 37,
     "metadata": {},
     "output_type": "execute_result"
    }
   ],
   "source": [
    "a"
   ]
  },
  {
   "cell_type": "code",
   "execution_count": 38,
   "metadata": {},
   "outputs": [],
   "source": [
    "b=26"
   ]
  },
  {
   "cell_type": "code",
   "execution_count": 39,
   "metadata": {},
   "outputs": [
    {
     "data": {
      "text/plain": [
       "26"
      ]
     },
     "execution_count": 39,
     "metadata": {},
     "output_type": "execute_result"
    }
   ],
   "source": [
    "b"
   ]
  },
  {
   "cell_type": "code",
   "execution_count": 40,
   "metadata": {},
   "outputs": [
    {
     "data": {
      "text/plain": [
       "int"
      ]
     },
     "execution_count": 40,
     "metadata": {},
     "output_type": "execute_result"
    }
   ],
   "source": [
    "type (a)"
   ]
  },
  {
   "cell_type": "code",
   "execution_count": 41,
   "metadata": {},
   "outputs": [
    {
     "data": {
      "text/plain": [
       "int"
      ]
     },
     "execution_count": 41,
     "metadata": {},
     "output_type": "execute_result"
    }
   ],
   "source": [
    "type(b)"
   ]
  },
  {
   "cell_type": "code",
   "execution_count": 42,
   "metadata": {},
   "outputs": [
    {
     "name": "stdout",
     "output_type": "stream",
     "text": [
      "<class 'int'>\n"
     ]
    }
   ],
   "source": [
    "print(type(a))"
   ]
  },
  {
   "cell_type": "markdown",
   "metadata": {},
   "source": [
    "# reader user input"
   ]
  },
  {
   "cell_type": "code",
   "execution_count": 58,
   "metadata": {
    "scrolled": true
   },
   "outputs": [
    {
     "name": "stdout",
     "output_type": "stream",
     "text": [
      "132\n",
      "132\n",
      "<class 'str'>\n"
     ]
    }
   ],
   "source": [
    "'''\n",
    "a=44\n",
    "print(a)\n",
    "print(type(a))\n",
    "\n",
    "a='tharun'\n",
    "print(a)\n",
    "print(type(a))\n",
    "'''\n",
    "n=input()\n",
    "print(n)\n",
    "print(type(n))\n"
   ]
  },
  {
   "cell_type": "code",
   "execution_count": 55,
   "metadata": {},
   "outputs": [
    {
     "name": "stdout",
     "output_type": "stream",
     "text": [
      "mahesh\n",
      "<class 'str'>\n"
     ]
    }
   ],
   "source": [
    "n='mahesh'\n",
    "print(n)\n",
    "print(type(n))"
   ]
  },
  {
   "cell_type": "markdown",
   "metadata": {},
   "source": [
    "# conditional statements\n",
    "- used for decision making \n",
    "- if the condition statisfies it just return boolean value \n",
    "- types\n",
    "  - if\n",
    "  - else\n",
    "  - elif\n",
    "\n"
   ]
  },
  {
   "cell_type": "markdown",
   "metadata": {},
   "source": [
    "### if statement\n",
    "```\n",
    "if(conditon) {\n",
    "    stmts to execute     - other language\n",
    "}\n",
    "### in python\n",
    "\n",
    "if condition:\n",
    "    stmts to execute\n",
    "else:\n",
    "     stmts to execute\n",
    "     ```     \n"
   ]
  },
  {
   "cell_type": "code",
   "execution_count": 59,
   "metadata": {},
   "outputs": [
    {
     "name": "stdout",
     "output_type": "stream",
     "text": [
      "143\n",
      "143\n",
      "<class 'int'>\n"
     ]
    }
   ],
   "source": [
    "n= int(input())\n",
    "print(n)\n",
    "print(type(n))"
   ]
  },
  {
   "cell_type": "code",
   "execution_count": null,
   "metadata": {},
   "outputs": [],
   "source": [
    "# valid user details or not\n",
    "uname=input('enter u name:')\n",
    "pwd=input('enter password:')\n",
    "if uname=='tharun' and pwd=='143':\n",
    "    print('valid user details')\n",
    "else:\n",
    "    print('invaild')"
   ]
  },
  {
   "cell_type": "markdown",
   "metadata": {},
   "source": [
    "# syntax for if,elif,else\n",
    "```\n",
    "if condition:\n",
    "    stmts to execute\n",
    "elif condition:\n",
    "    stmts to execute\n",
    "else:\n",
    "    stmts to execute\n",
    "```"
   ]
  },
  {
   "cell_type": "code",
   "execution_count": 10,
   "metadata": {},
   "outputs": [
    {
     "name": "stdout",
     "output_type": "stream",
     "text": [
      "enter number143\n",
      "143 is odd\n"
     ]
    }
   ],
   "source": [
    "# even or odd\n",
    "n= int(input('enter number'))\n",
    "if n%2==0:\n",
    "    print(n,'is even')\n",
    "else:\n",
    "    print(n,'is odd')"
   ]
  },
  {
   "cell_type": "code",
   "execution_count": 12,
   "metadata": {},
   "outputs": [
    {
     "name": "stdout",
     "output_type": "stream",
     "text": [
      "enter a value26\n",
      "enter b value26\n",
      "enter c value26\n",
      "26 is biggest\n"
     ]
    }
   ],
   "source": [
    "# elif biggest among 3\n",
    "a=int(input('enter a value'))\n",
    "b=int(input('enter b value'))\n",
    "c=int(input('enter c value'))\n",
    "if a>b and a>c:\n",
    "    print(a,'is biggest')\n",
    "elif b>c:\n",
    "     print(b,'is biggest')\n",
    "else :        \n",
    "     print(c,'is biggest')"
   ]
  },
  {
   "cell_type": "code",
   "execution_count": 11,
   "metadata": {},
   "outputs": [
    {
     "name": "stdout",
     "output_type": "stream",
     "text": [
      "enter a value44\n",
      "enter b value44\n",
      "enter c value44\n",
      "all are equal\n"
     ]
    }
   ],
   "source": [
    "#nested if\n",
    "a=int(input('enter a value'))\n",
    "b=int(input('enter b value'))\n",
    "c=int(input('enter c value'))\n",
    "if a==b==c:\n",
    "    print ('all are equal')\n",
    "elif a>b and a>c:\n",
    "    print(a,'is biggest')\n",
    "elif b>c:\n",
    "     print(b,'is biggest')\n",
    "else :        \n",
    "     print(c,'is biggest')"
   ]
  },
  {
   "cell_type": "code",
   "execution_count": 10,
   "metadata": {},
   "outputs": [
    {
     "name": "stdout",
     "output_type": "stream",
     "text": [
      "enter a value99\n",
      "enter b value99\n",
      "enter c value99\n",
      "all are equal\n",
      "99 is biggest\n"
     ]
    }
   ],
   "source": [
    "#nested if\n",
    "a=int(input('enter a value'))\n",
    "b=int(input('enter b value'))\n",
    "c=int(input('enter c value'))\n",
    "if a==b==c:\n",
    "    print ('all are equal')\n",
    "if a>b and a>c:\n",
    "    print(a,'is biggest')\n",
    "if b>c:\n",
    "     print(b,'is biggest')\n",
    "else :        \n",
    "     print(c,'is biggest')"
   ]
  },
  {
   "cell_type": "code",
   "execution_count": null,
   "metadata": {},
   "outputs": [],
   "source": []
  }
 ],
 "metadata": {
  "kernelspec": {
   "display_name": "Python 3",
   "language": "python",
   "name": "python3"
  },
  "language_info": {
   "codemirror_mode": {
    "name": "ipython",
    "version": 3
   },
   "file_extension": ".py",
   "mimetype": "text/x-python",
   "name": "python",
   "nbconvert_exporter": "python",
   "pygments_lexer": "ipython3",
   "version": "3.7.3"
  }
 },
 "nbformat": 4,
 "nbformat_minor": 2
}
